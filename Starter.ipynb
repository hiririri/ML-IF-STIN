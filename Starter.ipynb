{
 "cells": [
  {
   "cell_type": "markdown",
   "metadata": {},
   "source": [
    "# Exemple de soumission valide pour le challenge\n",
    "\n",
    "Ce notebook sert de point de départ pour avancer dans la compétition : nous ne présenterons pas ici les meilleurs pratiques ou le meilleur algorithme pour remporter la compétition.Commençons par importer les données."
   ]
  },
  {
   "cell_type": "code",
   "execution_count": 14,
   "metadata": {},
   "outputs": [
    {
     "data": {
      "text/html": [
       "<div>\n",
       "<style scoped>\n",
       "    .dataframe tbody tr th:only-of-type {\n",
       "        vertical-align: middle;\n",
       "    }\n",
       "\n",
       "    .dataframe tbody tr th {\n",
       "        vertical-align: top;\n",
       "    }\n",
       "\n",
       "    .dataframe thead th {\n",
       "        text-align: right;\n",
       "    }\n",
       "</style>\n",
       "<table border=\"1\" class=\"dataframe\">\n",
       "  <thead>\n",
       "    <tr style=\"text-align: right;\">\n",
       "      <th></th>\n",
       "      <th>ticker</th>\n",
       "      <th>commodity</th>\n",
       "      <th>date</th>\n",
       "      <th>open</th>\n",
       "      <th>high</th>\n",
       "      <th>low</th>\n",
       "      <th>volume</th>\n",
       "      <th>ID</th>\n",
       "      <th>target</th>\n",
       "    </tr>\n",
       "  </thead>\n",
       "  <tbody>\n",
       "    <tr>\n",
       "      <th>0</th>\n",
       "      <td>CL=F</td>\n",
       "      <td>Crude Oil</td>\n",
       "      <td>2000-08-23</td>\n",
       "      <td>31.950001</td>\n",
       "      <td>32.799999</td>\n",
       "      <td>31.950001</td>\n",
       "      <td>79385</td>\n",
       "      <td>0</td>\n",
       "      <td>31.629999</td>\n",
       "    </tr>\n",
       "    <tr>\n",
       "      <th>1</th>\n",
       "      <td>CL=F</td>\n",
       "      <td>Crude Oil</td>\n",
       "      <td>2000-08-24</td>\n",
       "      <td>31.900000</td>\n",
       "      <td>32.240002</td>\n",
       "      <td>31.400000</td>\n",
       "      <td>72978</td>\n",
       "      <td>1</td>\n",
       "      <td>32.049999</td>\n",
       "    </tr>\n",
       "    <tr>\n",
       "      <th>2</th>\n",
       "      <td>CL=F</td>\n",
       "      <td>Crude Oil</td>\n",
       "      <td>2000-08-25</td>\n",
       "      <td>31.700001</td>\n",
       "      <td>32.099998</td>\n",
       "      <td>31.320000</td>\n",
       "      <td>44601</td>\n",
       "      <td>2</td>\n",
       "      <td>32.869999</td>\n",
       "    </tr>\n",
       "    <tr>\n",
       "      <th>3</th>\n",
       "      <td>CL=F</td>\n",
       "      <td>Crude Oil</td>\n",
       "      <td>2000-08-28</td>\n",
       "      <td>32.040001</td>\n",
       "      <td>32.919998</td>\n",
       "      <td>31.860001</td>\n",
       "      <td>46770</td>\n",
       "      <td>3</td>\n",
       "      <td>32.720001</td>\n",
       "    </tr>\n",
       "    <tr>\n",
       "      <th>4</th>\n",
       "      <td>CL=F</td>\n",
       "      <td>Crude Oil</td>\n",
       "      <td>2000-08-29</td>\n",
       "      <td>32.820000</td>\n",
       "      <td>33.029999</td>\n",
       "      <td>32.560001</td>\n",
       "      <td>49131</td>\n",
       "      <td>4</td>\n",
       "      <td>33.400002</td>\n",
       "    </tr>\n",
       "  </tbody>\n",
       "</table>\n",
       "</div>"
      ],
      "text/plain": [
       "  ticker  commodity       date       open       high        low  volume  ID  \\\n",
       "0   CL=F  Crude Oil 2000-08-23  31.950001  32.799999  31.950001   79385   0   \n",
       "1   CL=F  Crude Oil 2000-08-24  31.900000  32.240002  31.400000   72978   1   \n",
       "2   CL=F  Crude Oil 2000-08-25  31.700001  32.099998  31.320000   44601   2   \n",
       "3   CL=F  Crude Oil 2000-08-28  32.040001  32.919998  31.860001   46770   3   \n",
       "4   CL=F  Crude Oil 2000-08-29  32.820000  33.029999  32.560001   49131   4   \n",
       "\n",
       "      target  \n",
       "0  31.629999  \n",
       "1  32.049999  \n",
       "2  32.869999  \n",
       "3  32.720001  \n",
       "4  33.400002  "
      ]
     },
     "execution_count": 14,
     "metadata": {},
     "output_type": "execute_result"
    }
   ],
   "source": [
    "import numpy as np\n",
    "import pandas as pd\n",
    "\n",
    "df = pd.read_csv(\"train.csv\")\n",
    "df[\"date\"] = pd.to_datetime(df[\"date\"], format=\"%Y-%m-%d\")\n",
    "df = df.sort_values(by=\"date\")\n",
    "df.head()"
   ]
  },
  {
   "cell_type": "markdown",
   "metadata": {},
   "source": [
    "Il faut rendre les données exploitable pour un algorithme de Machine Learning. Nous allons couper la base d'entraînement en un jeu d'entraînement et de validation. Pour le faire, gardons en tête que nous devons conserver l'ordre temporel : il n'est pas le même pour toute les commodité :"
   ]
  },
  {
   "cell_type": "code",
   "execution_count": 15,
   "metadata": {},
   "outputs": [
    {
     "name": "stdout",
     "output_type": "stream",
     "text": [
      "CL=F : 2000-08-23 00:00:00 2019-08-29 00:00:00\n",
      "NG=F : 2000-08-30 00:00:00 2019-08-29 00:00:00\n",
      "HO=F : 2000-09-01 00:00:00 2019-08-30 00:00:00\n",
      "RB=F : 2000-11-01 00:00:00 2019-09-12 00:00:00\n",
      "BZ=F : 2007-07-30 00:00:00 2021-01-28 00:00:00\n"
     ]
    }
   ],
   "source": [
    "for ticker in df[\"ticker\"].value_counts().index:\n",
    "    temp = df.loc[df[\"ticker\"] == ticker, ]\n",
    "    print(ticker, \":\", np.min(temp[\"date\"]), np.max(temp[\"date\"]))"
   ]
  },
  {
   "cell_type": "markdown",
   "metadata": {},
   "source": [
    "Nous allons donc construire le jeu d'entraînement avec les valorisations jusqu'à fin 2017 et nous utiliserons le reste comme jeu de validation."
   ]
  },
  {
   "cell_type": "code",
   "execution_count": 16,
   "metadata": {},
   "outputs": [],
   "source": [
    "train, validation = df.loc[df[\"date\"] < \"2018-01-01\", ], df.loc[df[\"date\"] >= \"2018-01-01\", ]\n",
    "X_train = train.drop(columns=[\"ticker\", \"commodity\", \"date\", \"ID\", \"target\"])\n",
    "X_valid = validation.drop(columns=[\"ticker\", \"commodity\", \"date\", \"ID\", \"target\"])\n",
    "y_train = train[\"target\"]\n",
    "y_valid = validation[\"target\"]"
   ]
  },
  {
   "cell_type": "markdown",
   "metadata": {},
   "source": [
    "Nous pouvons maintenant entraîner et mesurer la performance d'un algorithme."
   ]
  },
  {
   "cell_type": "code",
   "execution_count": 17,
   "metadata": {},
   "outputs": [
    {
     "name": "stdout",
     "output_type": "stream",
     "text": [
      "RMSE: 0.9557\n"
     ]
    }
   ],
   "source": [
    "from sklearn.linear_model import LinearRegression\n",
    "from sklearn.metrics import mean_squared_error\n",
    "\n",
    "model = LinearRegression().fit(X_train, y_train)\n",
    "y_pred = model.predict(X_valid)\n",
    "\n",
    "RMSE = lambda y_true, y_pred: np.sqrt(mean_squared_error(y_true=y_true, y_pred=y_pred))\n",
    "performance = RMSE(y_valid, y_pred)\n",
    "print(f\"RMSE: {performance:.4}\")\n"
   ]
  },
  {
   "cell_type": "markdown",
   "metadata": {},
   "source": [
    "Nous avons un modèle fonctionnel. Passons au test ! Pour qu'une soumission soit valide, il faut que l'on ait la colonne *ID* et une colonne nommée *predicted* qui contiendra la valeur prédite par l'algorithme. "
   ]
  },
  {
   "cell_type": "code",
   "execution_count": 18,
   "metadata": {},
   "outputs": [],
   "source": [
    "test = pd.read_csv(\"test.csv\")\n",
    "X_test = test.drop(columns=[\"ticker\", \"commodity\", \"date\", \"ID\"])\n",
    "y_pred = model.predict(X_test)\n",
    "\n",
    "submission = pd.DataFrame({\n",
    "    \"ID\": test[\"ID\"],\n",
    "    \"predicted\": y_pred\n",
    "})\n",
    "submission.to_csv(\"submission.csv\", index=False)"
   ]
  },
  {
   "cell_type": "markdown",
   "metadata": {},
   "source": [
    "Il ne reste plus qu'à charger le fichier sur Kaggle !"
   ]
  }
 ],
 "metadata": {
  "kernelspec": {
   "display_name": "Python 3",
   "language": "python",
   "name": "python3"
  },
  "language_info": {
   "codemirror_mode": {
    "name": "ipython",
    "version": 3
   },
   "file_extension": ".py",
   "mimetype": "text/x-python",
   "name": "python",
   "nbconvert_exporter": "python",
   "pygments_lexer": "ipython3",
   "version": "3.9.6"
  }
 },
 "nbformat": 4,
 "nbformat_minor": 2
}
