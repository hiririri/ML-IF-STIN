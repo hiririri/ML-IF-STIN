{
 "cells": [
  {
   "cell_type": "markdown",
   "metadata": {},
   "source": [
    "# TP5 - Support Vector Machine : Reconnaitre des nombres\n",
    "\n",
    "On cherche à reproduire une partie du papier qui présente les [SVM](https://dl.acm.org/doi/pdf/10.1145/130385.130401). Nous allons cependant le faire avec les données MNIST qui consiste en image de chiffre manuscrit.\n",
    "\n",
    "Commençons par importer les données : elles sont au format d'image de taille 28x28, nous allons les transformer en un vecteur de $28\\times28=784$ dimensions."
   ]
  },
  {
   "cell_type": "code",
   "execution_count": 1,
   "metadata": {},
   "outputs": [
    {
     "data": {
      "text/html": [
       "<div>\n",
       "<style scoped>\n",
       "    .dataframe tbody tr th:only-of-type {\n",
       "        vertical-align: middle;\n",
       "    }\n",
       "\n",
       "    .dataframe tbody tr th {\n",
       "        vertical-align: top;\n",
       "    }\n",
       "\n",
       "    .dataframe thead th {\n",
       "        text-align: right;\n",
       "    }\n",
       "</style>\n",
       "<table border=\"1\" class=\"dataframe\">\n",
       "  <thead>\n",
       "    <tr style=\"text-align: right;\">\n",
       "      <th></th>\n",
       "      <th>Pix. 1</th>\n",
       "      <th>Pix. 2</th>\n",
       "      <th>Pix. 3</th>\n",
       "      <th>Pix. 4</th>\n",
       "      <th>Pix. 5</th>\n",
       "      <th>Pix. 6</th>\n",
       "      <th>Pix. 7</th>\n",
       "      <th>Pix. 8</th>\n",
       "      <th>Pix. 9</th>\n",
       "      <th>Pix. 10</th>\n",
       "      <th>...</th>\n",
       "      <th>Pix. 775</th>\n",
       "      <th>Pix. 776</th>\n",
       "      <th>Pix. 777</th>\n",
       "      <th>Pix. 778</th>\n",
       "      <th>Pix. 779</th>\n",
       "      <th>Pix. 780</th>\n",
       "      <th>Pix. 781</th>\n",
       "      <th>Pix. 782</th>\n",
       "      <th>Pix. 783</th>\n",
       "      <th>Pix. 784</th>\n",
       "    </tr>\n",
       "  </thead>\n",
       "  <tbody>\n",
       "    <tr>\n",
       "      <th>0</th>\n",
       "      <td>0</td>\n",
       "      <td>0</td>\n",
       "      <td>0</td>\n",
       "      <td>0</td>\n",
       "      <td>0</td>\n",
       "      <td>0</td>\n",
       "      <td>0</td>\n",
       "      <td>0</td>\n",
       "      <td>0</td>\n",
       "      <td>0</td>\n",
       "      <td>...</td>\n",
       "      <td>0</td>\n",
       "      <td>0</td>\n",
       "      <td>0</td>\n",
       "      <td>0</td>\n",
       "      <td>0</td>\n",
       "      <td>0</td>\n",
       "      <td>0</td>\n",
       "      <td>0</td>\n",
       "      <td>0</td>\n",
       "      <td>0</td>\n",
       "    </tr>\n",
       "    <tr>\n",
       "      <th>1</th>\n",
       "      <td>0</td>\n",
       "      <td>0</td>\n",
       "      <td>0</td>\n",
       "      <td>0</td>\n",
       "      <td>0</td>\n",
       "      <td>0</td>\n",
       "      <td>0</td>\n",
       "      <td>0</td>\n",
       "      <td>0</td>\n",
       "      <td>0</td>\n",
       "      <td>...</td>\n",
       "      <td>0</td>\n",
       "      <td>0</td>\n",
       "      <td>0</td>\n",
       "      <td>0</td>\n",
       "      <td>0</td>\n",
       "      <td>0</td>\n",
       "      <td>0</td>\n",
       "      <td>0</td>\n",
       "      <td>0</td>\n",
       "      <td>0</td>\n",
       "    </tr>\n",
       "    <tr>\n",
       "      <th>2</th>\n",
       "      <td>0</td>\n",
       "      <td>0</td>\n",
       "      <td>0</td>\n",
       "      <td>0</td>\n",
       "      <td>0</td>\n",
       "      <td>0</td>\n",
       "      <td>0</td>\n",
       "      <td>0</td>\n",
       "      <td>0</td>\n",
       "      <td>0</td>\n",
       "      <td>...</td>\n",
       "      <td>0</td>\n",
       "      <td>0</td>\n",
       "      <td>0</td>\n",
       "      <td>0</td>\n",
       "      <td>0</td>\n",
       "      <td>0</td>\n",
       "      <td>0</td>\n",
       "      <td>0</td>\n",
       "      <td>0</td>\n",
       "      <td>0</td>\n",
       "    </tr>\n",
       "    <tr>\n",
       "      <th>3</th>\n",
       "      <td>0</td>\n",
       "      <td>0</td>\n",
       "      <td>0</td>\n",
       "      <td>0</td>\n",
       "      <td>0</td>\n",
       "      <td>0</td>\n",
       "      <td>0</td>\n",
       "      <td>0</td>\n",
       "      <td>0</td>\n",
       "      <td>0</td>\n",
       "      <td>...</td>\n",
       "      <td>0</td>\n",
       "      <td>0</td>\n",
       "      <td>0</td>\n",
       "      <td>0</td>\n",
       "      <td>0</td>\n",
       "      <td>0</td>\n",
       "      <td>0</td>\n",
       "      <td>0</td>\n",
       "      <td>0</td>\n",
       "      <td>0</td>\n",
       "    </tr>\n",
       "    <tr>\n",
       "      <th>4</th>\n",
       "      <td>0</td>\n",
       "      <td>0</td>\n",
       "      <td>0</td>\n",
       "      <td>0</td>\n",
       "      <td>0</td>\n",
       "      <td>0</td>\n",
       "      <td>0</td>\n",
       "      <td>0</td>\n",
       "      <td>0</td>\n",
       "      <td>0</td>\n",
       "      <td>...</td>\n",
       "      <td>0</td>\n",
       "      <td>0</td>\n",
       "      <td>0</td>\n",
       "      <td>0</td>\n",
       "      <td>0</td>\n",
       "      <td>0</td>\n",
       "      <td>0</td>\n",
       "      <td>0</td>\n",
       "      <td>0</td>\n",
       "      <td>0</td>\n",
       "    </tr>\n",
       "  </tbody>\n",
       "</table>\n",
       "<p>5 rows × 784 columns</p>\n",
       "</div>"
      ],
      "text/plain": [
       "   Pix. 1  Pix. 2  Pix. 3  Pix. 4  Pix. 5  Pix. 6  Pix. 7  Pix. 8  Pix. 9  \\\n",
       "0       0       0       0       0       0       0       0       0       0   \n",
       "1       0       0       0       0       0       0       0       0       0   \n",
       "2       0       0       0       0       0       0       0       0       0   \n",
       "3       0       0       0       0       0       0       0       0       0   \n",
       "4       0       0       0       0       0       0       0       0       0   \n",
       "\n",
       "   Pix. 10  ...  Pix. 775  Pix. 776  Pix. 777  Pix. 778  Pix. 779  Pix. 780  \\\n",
       "0        0  ...         0         0         0         0         0         0   \n",
       "1        0  ...         0         0         0         0         0         0   \n",
       "2        0  ...         0         0         0         0         0         0   \n",
       "3        0  ...         0         0         0         0         0         0   \n",
       "4        0  ...         0         0         0         0         0         0   \n",
       "\n",
       "   Pix. 781  Pix. 782  Pix. 783  Pix. 784  \n",
       "0         0         0         0         0  \n",
       "1         0         0         0         0  \n",
       "2         0         0         0         0  \n",
       "3         0         0         0         0  \n",
       "4         0         0         0         0  \n",
       "\n",
       "[5 rows x 784 columns]"
      ]
     },
     "execution_count": 1,
     "metadata": {},
     "output_type": "execute_result"
    }
   ],
   "source": [
    "import numpy as np\n",
    "import pandas as pd\n",
    "from tensorflow import keras\n",
    "\n",
    "(X_train, class_train), (X_test, class_test) = keras.datasets.mnist.load_data()\n",
    "X_train = pd.DataFrame(X_train.reshape((X_train.shape[0], -1)), columns=[\"Pix. %d\" % number for number in range(1, 785)])\n",
    "X_test = pd.DataFrame(X_test.reshape((X_test.shape[0], -1)), columns=[\"Pix. %d\" % number for number in range(1, 785)])\n",
    "X_train.head()"
   ]
  },
  {
   "cell_type": "markdown",
   "metadata": {},
   "source": [
    "**Consigne** : Créer une fonction `vector_to_image` qui prend en paramètre un vecteur *vector* de taille 784 et qui renvoie une matrice de taille $28\\times28$."
   ]
  },
  {
   "cell_type": "code",
   "execution_count": 2,
   "metadata": {},
   "outputs": [],
   "source": [
    "def vector_to_image(vector):\n",
    "    image = np.array(vector).reshape((28, 28))\n",
    "    return image"
   ]
  },
  {
   "cell_type": "markdown",
   "metadata": {},
   "source": [
    "**Consigne** : Exploiter la fonction précédente et la fonction [`imshow`](https://matplotlib.org/stable/api/_as_gen/matplotlib.pyplot.imshow.html) pour visualiser l'image associé à la première ligne de *X_train*."
   ]
  },
  {
   "cell_type": "code",
   "execution_count": 3,
   "metadata": {},
   "outputs": [
    {
     "data": {
      "image/png": "[encoded data removed]",
      "text/plain": [
       "<Figure size 640x480 with 1 Axes>"
      ]
     },
     "metadata": {},
     "output_type": "display_data"
    }
   ],
   "source": [
    "%matplotlib inline\n",
    "import matplotlib.pyplot as plt\n",
    "import seaborn as sns; sns.set(style=\"white\")\n",
    "\n",
    "vector = X_train.iloc[0, ]\n",
    "plt.imshow(vector_to_image(X_train.iloc[0, ]))\n",
    "plt.show()"
   ]
  },
  {
   "cell_type": "markdown",
   "metadata": {},
   "source": [
    "**Consigne** : En exploitant la fonction [`randint`](https://docs.python.org/3/library/random.html), sélectionner aléatoirement 8 images que l'on affichera ensemble."
   ]
  },
  {
   "cell_type": "code",
   "execution_count": 4,
   "metadata": {},
   "outputs": [
    {
     "data": {
      "image/png": "[encoded data removed]",
      "text/plain": [
       "<Figure size 1500x800 with 8 Axes>"
      ]
     },
     "metadata": {},
     "output_type": "display_data"
    }
   ],
   "source": [
    "from random import randint\n",
    "\n",
    "plt.figure(figsize=(15, 8))\n",
    "\n",
    "for plot_index in range(8):\n",
    "    plt.subplot(2, 4, plot_index+1)\n",
    "    index = randint(0, X_train.shape[0])\n",
    "    vector = X_train.iloc[index, ]\n",
    "    label = class_train[index]\n",
    "    plt.imshow(vector_to_image(vector))\n",
    "    plt.title(f\"Image d'un {label}\")\n",
    "\n",
    "plt.suptitle(\"Exemples d'images du dataset MNIST\")\n",
    "plt.show()"
   ]
  },
  {
   "cell_type": "markdown",
   "metadata": {},
   "source": [
    "**Consigne** : Quelle est la valeur maximale du dataset ? Minimale ?"
   ]
  },
  {
   "cell_type": "code",
   "execution_count": 5,
   "metadata": {},
   "outputs": [
    {
     "name": "stdout",
     "output_type": "stream",
     "text": [
      "Valeur minimale: 0\n",
      "Valeur maximale: 255\n"
     ]
    }
   ],
   "source": [
    "maximal = np.max(np.max(X_train))\n",
    "minimal = np.min(np.min(X_train))\n",
    "print(f\"Valeur minimale: {minimal}\")\n",
    "print(f\"Valeur maximale: {maximal}\")"
   ]
  },
  {
   "cell_type": "markdown",
   "metadata": {},
   "source": [
    "Jusqu'ici, nous n'avons travaillé qu'avec des classifications binaire. Ici, il y a 10 classes. A-t-on une bonne représentativité des classes ?"
   ]
  },
  {
   "cell_type": "code",
   "execution_count": 6,
   "metadata": {},
   "outputs": [
    {
     "data": {
      "text/plain": [
       "0     9.871667\n",
       "1    11.236667\n",
       "2     9.930000\n",
       "3    10.218333\n",
       "4     9.736667\n",
       "5     9.035000\n",
       "6     9.863333\n",
       "7    10.441667\n",
       "8     9.751667\n",
       "9     9.915000\n",
       "Name: count, dtype: float64"
      ]
     },
     "execution_count": 6,
     "metadata": {},
     "output_type": "execute_result"
    }
   ],
   "source": [
    "100 * pd.Series(class_train).value_counts().sort_index() / X_train.shape[0]"
   ]
  },
  {
   "cell_type": "markdown",
   "metadata": {},
   "source": [
    "**Consigne** : En utilisant la classe [`StandardScaler`](https://scikit-learn.org/stable/modules/generated/sklearn.preprocessing.StandardScaler.html), standardiser le jeu d'entraînement et le jeu de test."
   ]
  },
  {
   "cell_type": "code",
   "execution_count": 7,
   "metadata": {},
   "outputs": [],
   "source": [
    "from sklearn.preprocessing import StandardScaler\n",
    "\n",
    "scaler = StandardScaler()\n",
    "X_train = scaler.fit_transform(X_train)\n",
    "X_test = scaler.transform(X_test)"
   ]
  },
  {
   "cell_type": "markdown",
   "metadata": {},
   "source": [
    "## Prédiction de la classe 0\n",
    "\n",
    "Nous allons prédire la classe 0 uniquement pour commencer.\n",
    "\n",
    "**Consigne** : Construire les vecteurs *y_train* et *y_test* pour répondre à ce besoin."
   ]
  },
  {
   "cell_type": "code",
   "execution_count": 8,
   "metadata": {},
   "outputs": [],
   "source": [
    "y_train = (class_train == 0).astype(np.uint8)\n",
    "y_test = (class_test == 0).astype(np.uint8)"
   ]
  },
  {
   "cell_type": "markdown",
   "metadata": {},
   "source": [
    "**Consigne** : Entraîner un modèle [SVM](https://scikit-learn.org/stable/modules/generated/sklearn.svm.SVC.html#sklearn.svm.SVC), puis mesurer ses performances à l'aide du f1-score."
   ]
  },
  {
   "cell_type": "code",
   "execution_count": 9,
   "metadata": {},
   "outputs": [
    {
     "name": "stdout",
     "output_type": "stream",
     "text": [
      "Performance SVM: 0.9836\n"
     ]
    }
   ],
   "source": [
    "from sklearn.svm import SVC\n",
    "from sklearn.metrics import f1_score\n",
    "\n",
    "model_SVM = SVC().fit(X_train, y_train)\n",
    "y_pred = model_SVM.predict(X_test)\n",
    "performance = f1_score(y_test, y_pred)\n",
    "print(f\"Performance SVM: {performance:.4f}\")"
   ]
  },
  {
   "cell_type": "markdown",
   "metadata": {},
   "source": [
    "**Consigne** : Comparer les performances avec un [XGBoost](https://xgboost.readthedocs.io/en/stable/python/python_api.html) sans chercher les meilleurs paramètres."
   ]
  },
  {
   "cell_type": "code",
   "execution_count": 10,
   "metadata": {},
   "outputs": [
    {
     "name": "stdout",
     "output_type": "stream",
     "text": [
      "Performance XGBoost: 0.9872\n"
     ]
    }
   ],
   "source": [
    "from xgboost import XGBClassifier\n",
    "\n",
    "model_XGB = XGBClassifier().fit(X_train, y_train)\n",
    "y_pred = model_XGB.predict(X_test)\n",
    "performance = f1_score(y_test, y_pred)\n",
    "print(f\"Performance XGBoost: {performance:.4f}\")"
   ]
  },
  {
   "cell_type": "markdown",
   "metadata": {},
   "source": [
    "Chaque modèle SVM repose sur des vecteurs supports. L'attribut *support_* d'un modèle SVM, indique les index de ces vecteurs.\n",
    "\n",
    "**Consigne** : Après avoir afficher le nombre de vecteurs supports nécessaire pour former le modèle, sélectionner aléatoirement 8 vecteurs support que l'on affichera ensemble."
   ]
  },
  {
   "cell_type": "code",
   "execution_count": 11,
   "metadata": {},
   "outputs": [
    {
     "name": "stdout",
     "output_type": "stream",
     "text": [
      "Il y a 2793 vecteurs support pour ce modèle.\n"
     ]
    }
   ],
   "source": [
    "n_supports = len(model_SVM.support_)\n",
    "\n",
    "print(f\"Il y a {n_supports} vecteurs support pour ce modèle.\")"
   ]
  },
  {
   "cell_type": "code",
   "execution_count": 12,
   "metadata": {},
   "outputs": [
    {
     "data": {
      "image/png": "[encoded data removed]",
      "text/plain": [
       "<Figure size 1500x800 with 8 Axes>"
      ]
     },
     "metadata": {},
     "output_type": "display_data"
    }
   ],
   "source": [
    "plt.figure(figsize=(15, 8))\n",
    "\n",
    "\n",
    "for plot_index in range(8):\n",
    "    plt.subplot(2, 4, plot_index+1)\n",
    "    index = model_SVM.support_[randint(0, n_supports)]\n",
    "    vector = X_train[index, ]\n",
    "    label = class_train[index]\n",
    "    plt.imshow(vector_to_image(vector))\n",
    "    plt.title(f\"Image d'un {label}\")\n",
    "\n",
    "plt.suptitle(\"Exemples de vecteur support du modèle SVM\")\n",
    "plt.show()"
   ]
  },
  {
   "cell_type": "markdown",
   "metadata": {},
   "source": [
    "On souhaite tester toutes les fonctionnalités du SVM : différents noyaux et différentes pénalisations.\n",
    "\n",
    "**Consigne** : En utilisant la classe [`GridSearch`](https://scikit-learn.org/stable/modules/generated/sklearn.model_selection.GridSearchCV.html) tester quelques noyaux et pénalisations et trouver le meilleur paramétrage.\n",
    "\n",
    "**Discussion** : Puisque l'entraînement d'un SVM est long, et que l'on va réaliser un GridSearch avec cross-validation, on va entraîner beaucoup de modèle. Donc on ne vas s'intéresser qu'à peu de possibilités."
   ]
  },
  {
   "cell_type": "code",
   "execution_count": 13,
   "metadata": {},
   "outputs": [
    {
     "name": "stdout",
     "output_type": "stream",
     "text": [
      "Best parameters: {'C': 10, 'kernel': 'rbf'}\n",
      "Best performance: 0.9836\n"
     ]
    }
   ],
   "source": [
    "from sklearn.model_selection import GridSearchCV\n",
    "\n",
    "param_grid = {\n",
    "    'kernel': ['rbf', 'sigmoid'],\n",
    "    'C': [0.1, 10]\n",
    "}\n",
    "\n",
    "grid_search = GridSearchCV(SVC(), param_grid, scoring='f1', cv=3)\n",
    "grid_search.fit(X_train, y_train)\n",
    "\n",
    "best_params = grid_search.best_params_\n",
    "best_performance = grid_search.best_score_\n",
    "print(f\"Best parameters: {best_params}\\nBest performance: {best_performance:.4f}\")\n",
    "\n"
   ]
  },
  {
   "cell_type": "markdown",
   "metadata": {},
   "source": [
    "## Prédiction d'un nombre\n",
    "\n",
    "Nous avons montré comment apprendre la classe 0, on souhaite le faire pour toute.\n",
    "\n",
    "**Consigne** : Créer une fonction `learn_class` qui prendra en paramètre un nombre *class_value* qui correspond à la classe que l'on cherche à prédire. Cette fonction renverra un modèle SVM entraîné pour reconnaître la classe *class_value*. On affichera également la performance du modèle sur le jeu de test."
   ]
  },
  {
   "cell_type": "code",
   "execution_count": 14,
   "metadata": {},
   "outputs": [],
   "source": [
    "def learn_class(class_value):\n",
    "    y_train = (class_train == class_value).astype(np.uint8)\n",
    "    y_test = (class_test == class_value).astype(np.uint8)\n",
    "    model = SVC().fit(X_train, y_train)\n",
    "    y_pred = model.predict(X_test)\n",
    "    performance = f1_score(y_test, y_pred)\n",
    "    print(f\"Classe {class_value}: f1_score={performance:.4f}\")\n",
    "    return model"
   ]
  },
  {
   "cell_type": "markdown",
   "metadata": {},
   "source": [
    "**Consigne** : A l'aide de la fonction précédente, entraîner des SVM pour prédire chaque chiffre, tous les stocker dans la liste *models*"
   ]
  },
  {
   "cell_type": "code",
   "execution_count": 15,
   "metadata": {},
   "outputs": [
    {
     "name": "stdout",
     "output_type": "stream",
     "text": [
      "Classe 0: f1_score=0.9836\n",
      "Classe 1: f1_score=0.9894\n",
      "Classe 2: f1_score=0.9547\n",
      "Classe 3: f1_score=0.9615\n",
      "Classe 4: f1_score=0.9622\n",
      "Classe 5: f1_score=0.9544\n",
      "Classe 6: f1_score=0.9702\n",
      "Classe 7: f1_score=0.9478\n",
      "Classe 8: f1_score=0.9450\n",
      "Classe 9: f1_score=0.9366\n"
     ]
    }
   ],
   "source": [
    "models = []\n",
    "for class_value in range(10):\n",
    "    model = learn_class(class_value)\n",
    "    models.append(model)"
   ]
  },
  {
   "cell_type": "markdown",
   "metadata": {},
   "source": [
    "On souhaite à présent exploiter ces dix modèles pour prédire le chiffre dans une image.\n",
    "\n",
    "**Consigne** : Définir une fonction `make_prediction` qui prendra en paramètre *vector* qui correspond à une image. Elle testera la prédiction pour chaque modèle et renverra la classe prédite."
   ]
  },
  {
   "cell_type": "code",
   "execution_count": 16,
   "metadata": {},
   "outputs": [],
   "source": [
    "def make_prediction(vector):\n",
    "    predictions = []\n",
    "    for model in models:\n",
    "        y_pred = model.predict(np.array(vector).reshape(1, -1))\n",
    "        predictions.append(y_pred)\n",
    "    return np.argmax(predictions)"
   ]
  },
  {
   "cell_type": "markdown",
   "metadata": {},
   "source": [
    "**Consigne** : Tester cette fonction sur plusieurs exemples."
   ]
  }
 ],
 "metadata": {
  "kernelspec": {
   "display_name": "Python 3",
   "language": "python",
   "name": "python3"
  },
  "language_info": {
   "codemirror_mode": {
    "name": "ipython",
    "version": 3
   },
   "file_extension": ".py",
   "mimetype": "text/x-python",
   "name": "python",
   "nbconvert_exporter": "python",
   "pygments_lexer": "ipython3",
   "version": "3.9.6"
  }
 },
 "nbformat": 4,
 "nbformat_minor": 2
}
