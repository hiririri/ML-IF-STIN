{
 "cells": [
  {
   "cell_type": "markdown",
   "metadata": {},
   "source": [
    "# TP2 - Une étoile est-elle un pulsar ?\n",
    "\n",
    "On souhaite prédire si les observations d'étoiles présente dans le [dataset](https://www.kaggle.com/datasets/colearninglounge/predicting-pulsar-starintermediate) sont des [pulsars](https://fr.wikipedia.org/wiki/Pulsar) ou non. Puisque la réponse est *oui* ou *non*, nous sommes dans le cadre d'un apprentissage supervisé et plus spécifiquement une classification. Nous allons utiliser une régression logistique pour répondre à ce problème.\n",
    "\n",
    "## Contrôle de la qualité de donnée\n",
    "\n",
    "Commençons par importer les données et les observer."
   ]
  },
  {
   "cell_type": "code",
   "execution_count": 2,
   "metadata": {},
   "outputs": [
    {
     "data": {
      "text/html": [
       "<div>\n",
       "<style scoped>\n",
       "    .dataframe tbody tr th:only-of-type {\n",
       "        vertical-align: middle;\n",
       "    }\n",
       "\n",
       "    .dataframe tbody tr th {\n",
       "        vertical-align: top;\n",
       "    }\n",
       "\n",
       "    .dataframe thead th {\n",
       "        text-align: right;\n",
       "    }\n",
       "</style>\n",
       "<table border=\"1\" class=\"dataframe\">\n",
       "  <thead>\n",
       "    <tr style=\"text-align: right;\">\n",
       "      <th></th>\n",
       "      <th>Mean_ip</th>\n",
       "      <th>Std_ip</th>\n",
       "      <th>Excess_kurtosis_ip</th>\n",
       "      <th>Skewness_ip</th>\n",
       "      <th>Mean_DM</th>\n",
       "      <th>Std_DM</th>\n",
       "      <th>Excess_kurtosis_DM</th>\n",
       "      <th>Skewness_DM</th>\n",
       "      <th>target</th>\n",
       "    </tr>\n",
       "  </thead>\n",
       "  <tbody>\n",
       "    <tr>\n",
       "      <th>0</th>\n",
       "      <td>140.562500</td>\n",
       "      <td>55.683782</td>\n",
       "      <td>-0.234571</td>\n",
       "      <td>-0.699648</td>\n",
       "      <td>3.199833</td>\n",
       "      <td>19.110426</td>\n",
       "      <td>7.975532</td>\n",
       "      <td>74.242225</td>\n",
       "      <td>0</td>\n",
       "    </tr>\n",
       "    <tr>\n",
       "      <th>1</th>\n",
       "      <td>102.507812</td>\n",
       "      <td>58.882430</td>\n",
       "      <td>0.465318</td>\n",
       "      <td>-0.515088</td>\n",
       "      <td>1.677258</td>\n",
       "      <td>14.860146</td>\n",
       "      <td>10.576487</td>\n",
       "      <td>127.393580</td>\n",
       "      <td>0</td>\n",
       "    </tr>\n",
       "    <tr>\n",
       "      <th>2</th>\n",
       "      <td>103.015625</td>\n",
       "      <td>39.341649</td>\n",
       "      <td>0.323328</td>\n",
       "      <td>1.051164</td>\n",
       "      <td>3.121237</td>\n",
       "      <td>21.744669</td>\n",
       "      <td>7.735822</td>\n",
       "      <td>63.171909</td>\n",
       "      <td>0</td>\n",
       "    </tr>\n",
       "    <tr>\n",
       "      <th>3</th>\n",
       "      <td>136.750000</td>\n",
       "      <td>57.178449</td>\n",
       "      <td>-0.068415</td>\n",
       "      <td>-0.636238</td>\n",
       "      <td>3.642977</td>\n",
       "      <td>20.959280</td>\n",
       "      <td>6.896499</td>\n",
       "      <td>53.593661</td>\n",
       "      <td>0</td>\n",
       "    </tr>\n",
       "    <tr>\n",
       "      <th>4</th>\n",
       "      <td>88.726562</td>\n",
       "      <td>40.672225</td>\n",
       "      <td>0.600866</td>\n",
       "      <td>1.123492</td>\n",
       "      <td>1.178930</td>\n",
       "      <td>11.468720</td>\n",
       "      <td>14.269573</td>\n",
       "      <td>252.567306</td>\n",
       "      <td>0</td>\n",
       "    </tr>\n",
       "    <tr>\n",
       "      <th>5</th>\n",
       "      <td>93.570312</td>\n",
       "      <td>46.698114</td>\n",
       "      <td>0.531905</td>\n",
       "      <td>0.416721</td>\n",
       "      <td>1.636288</td>\n",
       "      <td>14.545074</td>\n",
       "      <td>10.621748</td>\n",
       "      <td>131.394004</td>\n",
       "      <td>0</td>\n",
       "    </tr>\n",
       "    <tr>\n",
       "      <th>6</th>\n",
       "      <td>119.484375</td>\n",
       "      <td>48.765059</td>\n",
       "      <td>0.031460</td>\n",
       "      <td>-0.112168</td>\n",
       "      <td>0.999164</td>\n",
       "      <td>9.279612</td>\n",
       "      <td>19.206230</td>\n",
       "      <td>479.756567</td>\n",
       "      <td>0</td>\n",
       "    </tr>\n",
       "    <tr>\n",
       "      <th>7</th>\n",
       "      <td>130.382812</td>\n",
       "      <td>39.844056</td>\n",
       "      <td>-0.158323</td>\n",
       "      <td>0.389540</td>\n",
       "      <td>1.220736</td>\n",
       "      <td>14.378941</td>\n",
       "      <td>13.539456</td>\n",
       "      <td>198.236457</td>\n",
       "      <td>0</td>\n",
       "    </tr>\n",
       "    <tr>\n",
       "      <th>8</th>\n",
       "      <td>107.250000</td>\n",
       "      <td>52.627078</td>\n",
       "      <td>0.452688</td>\n",
       "      <td>0.170347</td>\n",
       "      <td>2.331940</td>\n",
       "      <td>14.486853</td>\n",
       "      <td>9.001004</td>\n",
       "      <td>107.972506</td>\n",
       "      <td>0</td>\n",
       "    </tr>\n",
       "    <tr>\n",
       "      <th>9</th>\n",
       "      <td>107.257812</td>\n",
       "      <td>39.496488</td>\n",
       "      <td>0.465882</td>\n",
       "      <td>1.162877</td>\n",
       "      <td>4.079431</td>\n",
       "      <td>24.980418</td>\n",
       "      <td>7.397080</td>\n",
       "      <td>57.784738</td>\n",
       "      <td>0</td>\n",
       "    </tr>\n",
       "    <tr>\n",
       "      <th>10</th>\n",
       "      <td>142.078125</td>\n",
       "      <td>45.288073</td>\n",
       "      <td>-0.320328</td>\n",
       "      <td>0.283953</td>\n",
       "      <td>5.376254</td>\n",
       "      <td>29.009897</td>\n",
       "      <td>6.076266</td>\n",
       "      <td>37.831393</td>\n",
       "      <td>0</td>\n",
       "    </tr>\n",
       "    <tr>\n",
       "      <th>11</th>\n",
       "      <td>133.257812</td>\n",
       "      <td>44.058244</td>\n",
       "      <td>-0.081060</td>\n",
       "      <td>0.115362</td>\n",
       "      <td>1.632107</td>\n",
       "      <td>12.007806</td>\n",
       "      <td>11.972067</td>\n",
       "      <td>195.543448</td>\n",
       "      <td>0</td>\n",
       "    </tr>\n",
       "    <tr>\n",
       "      <th>12</th>\n",
       "      <td>134.960938</td>\n",
       "      <td>49.554327</td>\n",
       "      <td>-0.135304</td>\n",
       "      <td>-0.080470</td>\n",
       "      <td>10.696488</td>\n",
       "      <td>41.342044</td>\n",
       "      <td>3.893934</td>\n",
       "      <td>14.131206</td>\n",
       "      <td>0</td>\n",
       "    </tr>\n",
       "    <tr>\n",
       "      <th>13</th>\n",
       "      <td>117.945312</td>\n",
       "      <td>45.506577</td>\n",
       "      <td>0.325438</td>\n",
       "      <td>0.661459</td>\n",
       "      <td>2.836120</td>\n",
       "      <td>23.118350</td>\n",
       "      <td>8.943212</td>\n",
       "      <td>82.475592</td>\n",
       "      <td>0</td>\n",
       "    </tr>\n",
       "    <tr>\n",
       "      <th>14</th>\n",
       "      <td>138.179688</td>\n",
       "      <td>51.524484</td>\n",
       "      <td>-0.031852</td>\n",
       "      <td>0.046797</td>\n",
       "      <td>6.330268</td>\n",
       "      <td>31.576347</td>\n",
       "      <td>5.155940</td>\n",
       "      <td>26.143310</td>\n",
       "      <td>0</td>\n",
       "    </tr>\n",
       "  </tbody>\n",
       "</table>\n",
       "</div>"
      ],
      "text/plain": [
       "       Mean_ip     Std_ip  Excess_kurtosis_ip  Skewness_ip    Mean_DM  \\\n",
       "0   140.562500  55.683782           -0.234571    -0.699648   3.199833   \n",
       "1   102.507812  58.882430            0.465318    -0.515088   1.677258   \n",
       "2   103.015625  39.341649            0.323328     1.051164   3.121237   \n",
       "3   136.750000  57.178449           -0.068415    -0.636238   3.642977   \n",
       "4    88.726562  40.672225            0.600866     1.123492   1.178930   \n",
       "5    93.570312  46.698114            0.531905     0.416721   1.636288   \n",
       "6   119.484375  48.765059            0.031460    -0.112168   0.999164   \n",
       "7   130.382812  39.844056           -0.158323     0.389540   1.220736   \n",
       "8   107.250000  52.627078            0.452688     0.170347   2.331940   \n",
       "9   107.257812  39.496488            0.465882     1.162877   4.079431   \n",
       "10  142.078125  45.288073           -0.320328     0.283953   5.376254   \n",
       "11  133.257812  44.058244           -0.081060     0.115362   1.632107   \n",
       "12  134.960938  49.554327           -0.135304    -0.080470  10.696488   \n",
       "13  117.945312  45.506577            0.325438     0.661459   2.836120   \n",
       "14  138.179688  51.524484           -0.031852     0.046797   6.330268   \n",
       "\n",
       "       Std_DM  Excess_kurtosis_DM  Skewness_DM  target  \n",
       "0   19.110426            7.975532    74.242225       0  \n",
       "1   14.860146           10.576487   127.393580       0  \n",
       "2   21.744669            7.735822    63.171909       0  \n",
       "3   20.959280            6.896499    53.593661       0  \n",
       "4   11.468720           14.269573   252.567306       0  \n",
       "5   14.545074           10.621748   131.394004       0  \n",
       "6    9.279612           19.206230   479.756567       0  \n",
       "7   14.378941           13.539456   198.236457       0  \n",
       "8   14.486853            9.001004   107.972506       0  \n",
       "9   24.980418            7.397080    57.784738       0  \n",
       "10  29.009897            6.076266    37.831393       0  \n",
       "11  12.007806           11.972067   195.543448       0  \n",
       "12  41.342044            3.893934    14.131206       0  \n",
       "13  23.118350            8.943212    82.475592       0  \n",
       "14  31.576347            5.155940    26.143310       0  "
      ]
     },
     "execution_count": 2,
     "metadata": {},
     "output_type": "execute_result"
    }
   ],
   "source": [
    "import numpy as np\n",
    "import pandas as pd\n",
    "\n",
    "df = pd.read_csv(\"pulsar_stars.csv\")\n",
    "df.head(15)"
   ]
  },
  {
   "cell_type": "markdown",
   "metadata": {},
   "source": [
    "Comme nous travaillons avec un problème de classification, on souhaite connaître la proportion de déséquilibre. C'est la proportion d'observation de la classe d'intérêt dans la totalité du dataset.\n",
    "\n",
    "**Consigne** : calculer la proportion de déséquilibre."
   ]
  },
  {
   "cell_type": "code",
   "execution_count": 9,
   "metadata": {},
   "outputs": [
    {
     "name": "stdout",
     "output_type": "stream",
     "text": [
      "Taux de déséquilibre du dataset = 9.16%\n"
     ]
    }
   ],
   "source": [
    "rate = round(df[\"target\"].mean() * 100, 2)\n",
    "print(f\"Taux de déséquilibre du dataset = {rate}%\")"
   ]
  },
  {
   "cell_type": "markdown",
   "metadata": {},
   "source": [
    "On souhaite avoir une vue rapide du dataset. En exploitant la méthode `describe` on obtient :"
   ]
  },
  {
   "cell_type": "code",
   "execution_count": 2,
   "metadata": {},
   "outputs": [
    {
     "data": {
      "text/html": [
       "<div>\n",
       "<style scoped>\n",
       "    .dataframe tbody tr th:only-of-type {\n",
       "        vertical-align: middle;\n",
       "    }\n",
       "\n",
       "    .dataframe tbody tr th {\n",
       "        vertical-align: top;\n",
       "    }\n",
       "\n",
       "    .dataframe thead th {\n",
       "        text-align: right;\n",
       "    }\n",
       "</style>\n",
       "<table border=\"1\" class=\"dataframe\">\n",
       "  <thead>\n",
       "    <tr style=\"text-align: right;\">\n",
       "      <th></th>\n",
       "      <th>Mean_ip</th>\n",
       "      <th>Std_ip</th>\n",
       "      <th>Excess_kurtosis_ip</th>\n",
       "      <th>Skewness_ip</th>\n",
       "      <th>Mean_DM</th>\n",
       "      <th>Std_DM</th>\n",
       "      <th>Excess_kurtosis_DM</th>\n",
       "      <th>Skewness_DM</th>\n",
       "      <th>target</th>\n",
       "    </tr>\n",
       "  </thead>\n",
       "  <tbody>\n",
       "    <tr>\n",
       "      <th>count</th>\n",
       "      <td>17898.000000</td>\n",
       "      <td>17898.000000</td>\n",
       "      <td>17898.000000</td>\n",
       "      <td>17898.000000</td>\n",
       "      <td>17898.000000</td>\n",
       "      <td>17898.000000</td>\n",
       "      <td>17898.000000</td>\n",
       "      <td>17898.000000</td>\n",
       "      <td>17898.000000</td>\n",
       "    </tr>\n",
       "    <tr>\n",
       "      <th>mean</th>\n",
       "      <td>111.079968</td>\n",
       "      <td>46.549532</td>\n",
       "      <td>0.477857</td>\n",
       "      <td>1.770279</td>\n",
       "      <td>12.614400</td>\n",
       "      <td>26.326515</td>\n",
       "      <td>8.303556</td>\n",
       "      <td>104.857709</td>\n",
       "      <td>0.091574</td>\n",
       "    </tr>\n",
       "    <tr>\n",
       "      <th>std</th>\n",
       "      <td>25.652935</td>\n",
       "      <td>6.843189</td>\n",
       "      <td>1.064040</td>\n",
       "      <td>6.167913</td>\n",
       "      <td>29.472897</td>\n",
       "      <td>19.470572</td>\n",
       "      <td>4.506092</td>\n",
       "      <td>106.514540</td>\n",
       "      <td>0.288432</td>\n",
       "    </tr>\n",
       "    <tr>\n",
       "      <th>min</th>\n",
       "      <td>5.812500</td>\n",
       "      <td>24.772042</td>\n",
       "      <td>-1.876011</td>\n",
       "      <td>-1.791886</td>\n",
       "      <td>0.213211</td>\n",
       "      <td>7.370432</td>\n",
       "      <td>-3.139270</td>\n",
       "      <td>-1.976976</td>\n",
       "      <td>0.000000</td>\n",
       "    </tr>\n",
       "    <tr>\n",
       "      <th>25%</th>\n",
       "      <td>100.929688</td>\n",
       "      <td>42.376018</td>\n",
       "      <td>0.027098</td>\n",
       "      <td>-0.188572</td>\n",
       "      <td>1.923077</td>\n",
       "      <td>14.437332</td>\n",
       "      <td>5.781506</td>\n",
       "      <td>34.960504</td>\n",
       "      <td>0.000000</td>\n",
       "    </tr>\n",
       "    <tr>\n",
       "      <th>50%</th>\n",
       "      <td>115.078125</td>\n",
       "      <td>46.947479</td>\n",
       "      <td>0.223240</td>\n",
       "      <td>0.198710</td>\n",
       "      <td>2.801839</td>\n",
       "      <td>18.461316</td>\n",
       "      <td>8.433515</td>\n",
       "      <td>83.064556</td>\n",
       "      <td>0.000000</td>\n",
       "    </tr>\n",
       "    <tr>\n",
       "      <th>75%</th>\n",
       "      <td>127.085938</td>\n",
       "      <td>51.023202</td>\n",
       "      <td>0.473325</td>\n",
       "      <td>0.927783</td>\n",
       "      <td>5.464256</td>\n",
       "      <td>28.428104</td>\n",
       "      <td>10.702959</td>\n",
       "      <td>139.309331</td>\n",
       "      <td>0.000000</td>\n",
       "    </tr>\n",
       "    <tr>\n",
       "      <th>max</th>\n",
       "      <td>192.617188</td>\n",
       "      <td>98.778911</td>\n",
       "      <td>8.069522</td>\n",
       "      <td>68.101622</td>\n",
       "      <td>223.392140</td>\n",
       "      <td>110.642211</td>\n",
       "      <td>34.539844</td>\n",
       "      <td>1191.000837</td>\n",
       "      <td>1.000000</td>\n",
       "    </tr>\n",
       "  </tbody>\n",
       "</table>\n",
       "</div>"
      ],
      "text/plain": [
       "            Mean_ip        Std_ip  Excess_kurtosis_ip   Skewness_ip  \\\n",
       "count  17898.000000  17898.000000        17898.000000  17898.000000   \n",
       "mean     111.079968     46.549532            0.477857      1.770279   \n",
       "std       25.652935      6.843189            1.064040      6.167913   \n",
       "min        5.812500     24.772042           -1.876011     -1.791886   \n",
       "25%      100.929688     42.376018            0.027098     -0.188572   \n",
       "50%      115.078125     46.947479            0.223240      0.198710   \n",
       "75%      127.085938     51.023202            0.473325      0.927783   \n",
       "max      192.617188     98.778911            8.069522     68.101622   \n",
       "\n",
       "            Mean_DM        Std_DM  Excess_kurtosis_DM   Skewness_DM  \\\n",
       "count  17898.000000  17898.000000        17898.000000  17898.000000   \n",
       "mean      12.614400     26.326515            8.303556    104.857709   \n",
       "std       29.472897     19.470572            4.506092    106.514540   \n",
       "min        0.213211      7.370432           -3.139270     -1.976976   \n",
       "25%        1.923077     14.437332            5.781506     34.960504   \n",
       "50%        2.801839     18.461316            8.433515     83.064556   \n",
       "75%        5.464256     28.428104           10.702959    139.309331   \n",
       "max      223.392140    110.642211           34.539844   1191.000837   \n",
       "\n",
       "             target  \n",
       "count  17898.000000  \n",
       "mean       0.091574  \n",
       "std        0.288432  \n",
       "min        0.000000  \n",
       "25%        0.000000  \n",
       "50%        0.000000  \n",
       "75%        0.000000  \n",
       "max        1.000000  "
      ]
     },
     "execution_count": 2,
     "metadata": {},
     "output_type": "execute_result"
    }
   ],
   "source": [
    "df.describe()"
   ]
  },
  {
   "cell_type": "markdown",
   "metadata": {},
   "source": [
    "Il ne semble pas y avoir de valeurs aberrantes, mais on souhaite le vérifier. Pour le faire, nous allons tracer la distribution de chacune des colonnes. \n",
    "\n",
    "**Consigne** : Ecrire une fonction nommé `plot_column` qui prend en paramètre :\n",
    "* *df*: un dataset\n",
    "* *column*: une chaîne de caractère qui correspond au nom de la colonne que l'on va visualiser\n",
    "Cette fonction a pour objectif d'afficher la distribution de la colonne *column* du dataset *df*."
   ]
  },
  {
   "cell_type": "code",
   "execution_count": 14,
   "metadata": {},
   "outputs": [],
   "source": [
    "import matplotlib.pyplot as plt\n",
    "import seaborn as sns; sns.set(style=\"whitegrid\")\n",
    "\n",
    "def plot_column(df, column, figsize=(15, 7)):\n",
    "    plt.figure(figsize=figsize)\n",
    "    plt.hist(df[column])\n",
    "    plt.title(\"Distribution de la colonne %s\" % column.capitalize())\n",
    "    plt.show()"
   ]
  },
  {
   "cell_type": "markdown",
   "metadata": {},
   "source": [
    "**Consigne** : Exploiter la fonction `plot_column` pour contrôler qu'il n'y a pas de valeurs aberrante."
   ]
  },
  {
   "cell_type": "code",
   "execution_count": 15,
   "metadata": {},
   "outputs": [
    {
     "data": {
      "image/png": "[encoded data removed]",
      "text/plain": [
       "<matplotlib.figure.Figure at 0x7f9572c85320>"
      ]
     },
     "metadata": {},
     "output_type": "display_data"
    }
   ],
   "source": [
    "plot_column(df, \"Mean_ip\")"
   ]
  },
  {
   "cell_type": "markdown",
   "metadata": {},
   "source": [
    "## Modélisation\n",
    "\n",
    "Pour mesurer la performance de notre future modélisation, nous allons utiliser la validation croisée et plus spécifiquement la fonction [`cross_val_score`](https://scikit-learn.org/stable/modules/generated/sklearn.model_selection.cross_val_score.html) de scikit-learn.\n",
    "\n",
    "**Consigne** : Construire une fonction `performance` qui prend en paramètre un vecteur *vector* et qui affiche la moyenne et l'écart-type au format suivant : *moyenne (+/- ecart-type)*"
   ]
  },
  {
   "cell_type": "code",
   "execution_count": 32,
   "metadata": {},
   "outputs": [],
   "source": [
    "def performance(vector):\n",
    "    mean_value = vector.mean()\n",
    "    std_value = vector.std()\n",
    "    print(f\"Performance : {mean_value:.2f} (+/-{std_value:.2f})\")"
   ]
  },
  {
   "cell_type": "markdown",
   "metadata": {},
   "source": [
    "**Consigne** : réaliser une validation croisée pour la mesure de performance d'une [régression logistique](https://scikit-learn.org/stable/modules/generated/sklearn.linear_model.LogisticRegression.html). On affichera les performance à l'aide de la fonction `performance`."
   ]
  },
  {
   "cell_type": "code",
   "execution_count": 33,
   "metadata": {},
   "outputs": [
    {
     "name": "stdout",
     "output_type": "stream",
     "text": [
      "Performance : 0.87 (+/-0.02)\n"
     ]
    }
   ],
   "source": [
    "from sklearn.model_selection import cross_val_score\n",
    "from sklearn.linear_model import LogisticRegression\n",
    "from sklearn.metrics import f1_score, make_scorer\n",
    "\n",
    "model = LogisticRegression(max_iter=1000)\n",
    "X = df.drop(columns=[\"target\"], axis=1)\n",
    "y = df[\"target\"]\n",
    "\n",
    "\n",
    "\n",
    "\n",
    "scores = cross_val_score(model, X, y, cv=5, scoring=make_scorer(f1_score))\n",
    "performance(scores)"
   ]
  },
  {
   "cell_type": "markdown",
   "metadata": {},
   "source": [
    "Une régression logistique est censée apprendre la probabilité d'appartenance à la classe d'intérêt. Nous avons donc accès à plusieurs *seuil*. Concrètement, en choisissant un seuil différent de 0.5 (celui par défaut), nous pouvons obtenir avec le même modèle plusieurs prédictions différentes. Nous souhaitons mesurer cela.\n",
    "\n",
    "**Consigne** : Couper le dataset *df* en une base d'entraînement et une base de test. On utilisera le paramètre *stratify* de la fonction [`train_test_split`](https://scikit-learn.org/stable/modules/generated/sklearn.model_selection.train_test_split.html)."
   ]
  },
  {
   "cell_type": "code",
   "execution_count": 21,
   "metadata": {},
   "outputs": [],
   "source": [
    "from sklearn.model_selection import train_test_split\n",
    "\n",
    "X_train, X_test, y_train, y_test = train_test_split(X, y, stratify=y)"
   ]
  },
  {
   "cell_type": "markdown",
   "metadata": {},
   "source": [
    "**Consigne** : Entraîner la régression logistique sur la base d'entraînement puis prédire les probabilités d'appartenance à la classe d'intérêt pour la base de test."
   ]
  },
  {
   "cell_type": "code",
   "execution_count": 25,
   "metadata": {},
   "outputs": [],
   "source": [
    "model = LogisticRegression(max_iter=1000).fit(X_train, y_train)\n",
    "y_proba = model.predict_proba(X_test)"
   ]
  },
  {
   "cell_type": "markdown",
   "metadata": {},
   "source": [
    "**Consigne** : calculer la performance pour les seuils 0.1, 0.5 et 0.9."
   ]
  },
  {
   "cell_type": "code",
   "execution_count": 40,
   "metadata": {},
   "outputs": [
    {
     "name": "stdout",
     "output_type": "stream",
     "text": [
      "Seuil 0.1, f1-score = 0.83\n",
      "Seuil 0.5, f1-score = 0.87\n",
      "Seuil 0.9, f1-score = 0.80\n"
     ]
    }
   ],
   "source": [
    "thresholds = [0.1, 0.5, 0.9]\n",
    "for threshold in thresholds:\n",
    "    y_pred = y_proba[:, 1] > threshold\n",
    "    score = f1_score(y_true=y_test, y_pred=y_pred)\n",
    "    print(f\"Seuil {threshold}, f1-score = {score:.2f}\")"
   ]
  },
  {
   "cell_type": "markdown",
   "metadata": {},
   "source": [
    "On souhaite visualiser les courbes de performances selon la valeur du seuil choisi. On souhaite mesurer la performance selon plusieurs métriques :\n",
    "* La [précision](https://scikit-learn.org/stable/modules/generated/sklearn.metrics.precision_score.html#sklearn.metrics.precision_score)\n",
    "* Le [recall](https://scikit-learn.org/stable/modules/generated/sklearn.metrics.recall_score.html#sklearn.metrics.recall_score)\n",
    "* Le [f1-score](https://scikit-learn.org/stable/modules/generated/sklearn.metrics.f1_score.html#sklearn.metrics.f1_score)\n",
    "\n",
    "**Consigne** : Construire une fonction `plot_metrics` qui prends en paramètre :\n",
    "* *y_proba* : un vecteur de probabilité d'appartenance à la classe d'intérêt\n",
    "* *y_true* : un vecteur qui correspond aux valeurs que l'on doit prédire\n",
    "Elle tracera pour plusieurs seuil (on pourra utiliser la fonction *np.linspace*) la performance pour ces trois métriques."
   ]
  },
  {
   "cell_type": "code",
   "execution_count": 43,
   "metadata": {},
   "outputs": [],
   "source": [
    "from sklearn.metrics import precision_score, recall_score\n",
    "\n",
    "def plot_metrics(y_proba, y_true, figsize=(15, 7)):\n",
    "    thresholds = np.linspace(start=0.001, stop=0.999, num=25)\n",
    "    \n",
    "    plt.figure(figsize=figsize)\n",
    "    \n",
    "    for metric in [precision_score, recall_score, f1_score]:\n",
    "        scores = []\n",
    "        \n",
    "        for threshold in thresholds:\n",
    "            y_pred = y_proba > threshold\n",
    "            score = metric(y_true=y_test, y_pred=y_pred)\n",
    "            scores.append(score)\n",
    "        \n",
    "        plt.plot(thresholds, scores, label=metric.__name__)\n",
    "    \n",
    "    plt.ylim(0, 1)\n",
    "    plt.title(\"Valeurs de performance pour plusieurs seuils\")\n",
    "    plt.legend()\n",
    "    plt.show()"
   ]
  },
  {
   "cell_type": "code",
   "execution_count": 44,
   "metadata": {},
   "outputs": [
    {
     "data": {
      "image/png": "[encoded data removed]",
      "text/plain": [
       "<matplotlib.figure.Figure at 0x7f9572d5e470>"
      ]
     },
     "metadata": {},
     "output_type": "display_data"
    }
   ],
   "source": [
    "plot_metrics(y_proba[:, 1], y_test)"
   ]
  },
  {
   "cell_type": "markdown",
   "metadata": {},
   "source": [
    "## Régularisations\n",
    "\n",
    "Par défaut, l'implémentation de la [régression logistique](https://scikit-learn.org/stable/modules/generated/sklearn.linear_model.LogisticRegression.html) dans scikit-learn utilise la régularisation $\\mathcal{L}_2$.\n",
    "\n",
    "**Consigne** : Entrainer une régression logitisque sans aucune régularisation."
   ]
  },
  {
   "cell_type": "code",
   "execution_count": 50,
   "metadata": {},
   "outputs": [
    {
     "name": "stdout",
     "output_type": "stream",
     "text": [
      "Performance : 0.88 (+/-0.02)\n"
     ]
    }
   ],
   "source": [
    "model = LogisticRegression(penalty='none', max_iter=1000)\n",
    "scores = cross_val_score(model, X, y, cv=5, scoring=make_scorer(f1_score))\n",
    "performance(scores)"
   ]
  },
  {
   "cell_type": "markdown",
   "metadata": {},
   "source": [
    "On cherche à mesurer l'impact de la régularisation $\\mathcal{L}_2$ sur la qualité de prédiction. \n",
    "\n",
    "**Consigne** : Entraîner plusieurs régression logisitique en faisant varier la force de la régularisation."
   ]
  },
  {
   "cell_type": "code",
   "execution_count": 60,
   "metadata": {},
   "outputs": [
    {
     "name": "stdout",
     "output_type": "stream",
     "text": [
      "C=100 : 0.88\n",
      "C=10 : 0.88\n",
      "C=1 : 0.87\n",
      "C=0.1 : 0.86\n",
      "C=0.01 : 0.84\n",
      "C=0.001 : 0.84\n",
      "C=0.0001 : 0.83\n",
      "C=1e-05 : 0.80\n"
     ]
    }
   ],
   "source": [
    "strengths = [10**(-digit) for digit in range(-2, 6)]\n",
    "for strength in strengths:\n",
    "    model = LogisticRegression(penalty='l2', C=strength, max_iter=1000)\n",
    "    score = cross_val_score(model, X, y, cv=5, scoring=make_scorer(f1_score)).mean()\n",
    "    print(f\"C={strength} : {score:.2f}\")"
   ]
  },
  {
   "cell_type": "markdown",
   "metadata": {},
   "source": [
    "## BONUS\n",
    "\n",
    "1. Fonction pour trouver le seuil optimal selon le f1-score\n",
    "2. Fonction de visualisation de l'impact de la régularisation\n",
    "3. Généralisation à d'autre forme de régularisations"
   ]
  },
  {
   "cell_type": "code",
   "execution_count": null,
   "metadata": {},
   "outputs": [],
   "source": []
  }
 ],
 "metadata": {
  "kernelspec": {
   "display_name": "Python 3",
   "language": "python",
   "name": "python3"
  },
  "language_info": {
   "codemirror_mode": {
    "name": "ipython",
    "version": 3
   },
   "file_extension": ".py",
   "mimetype": "text/x-python",
   "name": "python",
   "nbconvert_exporter": "python",
   "pygments_lexer": "ipython3",
   "version": "3.6.5"
  }
 },
 "nbformat": 4,
 "nbformat_minor": 2
}
