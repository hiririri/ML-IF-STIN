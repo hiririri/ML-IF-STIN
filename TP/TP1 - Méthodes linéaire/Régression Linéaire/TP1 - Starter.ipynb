{
 "cells": [
  {
   "cell_type": "markdown",
   "metadata": {},
   "source": [
    "# TP1 - Prédiction du prix d'un diamant\n",
    "\n",
    "On cherche à prédire le prix d'un diamant à partir d'un [dataset](https://www.kaggle.com/datasets/shivam2503/diamonds). Les informations dont on dispose sont :\n",
    "\n",
    "* **price** : price in US dollars (\\\\$326-$18,823)\n",
    "* **carat** : weight of the diamond (0.2-5.01)\n",
    "* **cut** : quality of the cut (Fair, Good, Very Good, Premium, Ideal)\n",
    "* **color** : diamond colour, from J (worst) to D (best)\n",
    "* **clarity** : a measurement of how clear the diamond is (I1 (worst), SI2, SI1, VS2, VS1, VVS2, VVS1, IF (best))\n",
    "* **x** : length in mm (0-10.74)\n",
    "* **y** : width in mm (0-58.9)\n",
    "* **z** : depth in mm (0-31.8)\n",
    "* **depth** : total depth percentage = z / mean(x, y) = 2 * z / (x + y) (43-79)\n",
    "* **table** : width of top of diamond relative to widest point (43-95)\n",
    "\n",
    "Le notebook que l'on présente est une proposition de correction, mais n'est clairement pas la totalité de ce que l'on peut faire. Il y a de nombreux points que l'on peut améliorer, ce notebook a plus une portée pédagogique que de performance.\n",
    "\n",
    "Commençons par importer les données :"
   ]
  },
  {
   "cell_type": "code",
   "execution_count": 1,
   "metadata": {},
   "outputs": [
    {
     "data": {
      "text/html": [
       "<div>\n",
       "<style scoped>\n",
       "    .dataframe tbody tr th:only-of-type {\n",
       "        vertical-align: middle;\n",
       "    }\n",
       "\n",
       "    .dataframe tbody tr th {\n",
       "        vertical-align: top;\n",
       "    }\n",
       "\n",
       "    .dataframe thead th {\n",
       "        text-align: right;\n",
       "    }\n",
       "</style>\n",
       "<table border=\"1\" class=\"dataframe\">\n",
       "  <thead>\n",
       "    <tr style=\"text-align: right;\">\n",
       "      <th></th>\n",
       "      <th>Unnamed: 0</th>\n",
       "      <th>carat</th>\n",
       "      <th>cut</th>\n",
       "      <th>color</th>\n",
       "      <th>clarity</th>\n",
       "      <th>depth</th>\n",
       "      <th>table</th>\n",
       "      <th>price</th>\n",
       "      <th>x</th>\n",
       "      <th>y</th>\n",
       "      <th>z</th>\n",
       "    </tr>\n",
       "  </thead>\n",
       "  <tbody>\n",
       "    <tr>\n",
       "      <th>0</th>\n",
       "      <td>1</td>\n",
       "      <td>0.23</td>\n",
       "      <td>Ideal</td>\n",
       "      <td>E</td>\n",
       "      <td>SI2</td>\n",
       "      <td>61.5</td>\n",
       "      <td>55.0</td>\n",
       "      <td>326</td>\n",
       "      <td>3.95</td>\n",
       "      <td>3.98</td>\n",
       "      <td>2.43</td>\n",
       "    </tr>\n",
       "    <tr>\n",
       "      <th>1</th>\n",
       "      <td>2</td>\n",
       "      <td>0.21</td>\n",
       "      <td>Premium</td>\n",
       "      <td>E</td>\n",
       "      <td>SI1</td>\n",
       "      <td>59.8</td>\n",
       "      <td>61.0</td>\n",
       "      <td>326</td>\n",
       "      <td>3.89</td>\n",
       "      <td>3.84</td>\n",
       "      <td>2.31</td>\n",
       "    </tr>\n",
       "    <tr>\n",
       "      <th>2</th>\n",
       "      <td>3</td>\n",
       "      <td>0.23</td>\n",
       "      <td>Good</td>\n",
       "      <td>E</td>\n",
       "      <td>VS1</td>\n",
       "      <td>56.9</td>\n",
       "      <td>65.0</td>\n",
       "      <td>327</td>\n",
       "      <td>4.05</td>\n",
       "      <td>4.07</td>\n",
       "      <td>2.31</td>\n",
       "    </tr>\n",
       "    <tr>\n",
       "      <th>3</th>\n",
       "      <td>4</td>\n",
       "      <td>0.29</td>\n",
       "      <td>Premium</td>\n",
       "      <td>I</td>\n",
       "      <td>VS2</td>\n",
       "      <td>62.4</td>\n",
       "      <td>58.0</td>\n",
       "      <td>334</td>\n",
       "      <td>4.20</td>\n",
       "      <td>4.23</td>\n",
       "      <td>2.63</td>\n",
       "    </tr>\n",
       "    <tr>\n",
       "      <th>4</th>\n",
       "      <td>5</td>\n",
       "      <td>0.31</td>\n",
       "      <td>Good</td>\n",
       "      <td>J</td>\n",
       "      <td>SI2</td>\n",
       "      <td>63.3</td>\n",
       "      <td>58.0</td>\n",
       "      <td>335</td>\n",
       "      <td>4.34</td>\n",
       "      <td>4.35</td>\n",
       "      <td>2.75</td>\n",
       "    </tr>\n",
       "  </tbody>\n",
       "</table>\n",
       "</div>"
      ],
      "text/plain": [
       "   Unnamed: 0  carat      cut color clarity  depth  table  price     x     y  \\\n",
       "0           1   0.23    Ideal     E     SI2   61.5   55.0    326  3.95  3.98   \n",
       "1           2   0.21  Premium     E     SI1   59.8   61.0    326  3.89  3.84   \n",
       "2           3   0.23     Good     E     VS1   56.9   65.0    327  4.05  4.07   \n",
       "3           4   0.29  Premium     I     VS2   62.4   58.0    334  4.20  4.23   \n",
       "4           5   0.31     Good     J     SI2   63.3   58.0    335  4.34  4.35   \n",
       "\n",
       "      z  \n",
       "0  2.43  \n",
       "1  2.31  \n",
       "2  2.31  \n",
       "3  2.63  \n",
       "4  2.75  "
      ]
     },
     "execution_count": 1,
     "metadata": {},
     "output_type": "execute_result"
    }
   ],
   "source": [
    "import numpy as np\n",
    "import pandas as pd\n",
    "\n",
    "df = pd.read_csv(\"TP1 - Diamants.csv\")\n",
    "df.head()"
   ]
  },
  {
   "cell_type": "markdown",
   "metadata": {},
   "source": [
    "On remarque une colonne qui ne sert à rien, supprimons-la.\n",
    "\n",
    "**Consigne** : Supprimer la colonne *Unnamed: 0*"
   ]
  },
  {
   "cell_type": "code",
   "execution_count": null,
   "metadata": {},
   "outputs": [],
   "source": []
  },
  {
   "cell_type": "markdown",
   "metadata": {},
   "source": [
    "## Qualité des données et exploration\n",
    "\n",
    "Dans un premier temps, on veut s'assurer que les données avec lesquelles nous allons travailler soient saine. On veut supprimer les données qui sortent *vraiment* du lot, et déterminer les variables qui auront une importance (ou non) dans la prédiction. Nous n'allons pas découper le dataset en train/test car nous allons seulement mettre en place une validation croisée. Nous travaillerons donc pour le travail de nettoyage sur l'ensemble du dataset.\n",
    "\n",
    "On commence par les données numériques, puis par les données catégorielles.\n",
    "\n",
    "### Données numériques\n",
    "\n",
    "La méthode *describe* d'un DataFrame permet d'avoir une vision haut niveau de la répartition dans le dataset."
   ]
  },
  {
   "cell_type": "code",
   "execution_count": 3,
   "metadata": {},
   "outputs": [
    {
     "data": {
      "text/html": [
       "<div>\n",
       "<style scoped>\n",
       "    .dataframe tbody tr th:only-of-type {\n",
       "        vertical-align: middle;\n",
       "    }\n",
       "\n",
       "    .dataframe tbody tr th {\n",
       "        vertical-align: top;\n",
       "    }\n",
       "\n",
       "    .dataframe thead th {\n",
       "        text-align: right;\n",
       "    }\n",
       "</style>\n",
       "<table border=\"1\" class=\"dataframe\">\n",
       "  <thead>\n",
       "    <tr style=\"text-align: right;\">\n",
       "      <th></th>\n",
       "      <th>carat</th>\n",
       "      <th>depth</th>\n",
       "      <th>table</th>\n",
       "      <th>price</th>\n",
       "      <th>x</th>\n",
       "      <th>y</th>\n",
       "      <th>z</th>\n",
       "    </tr>\n",
       "  </thead>\n",
       "  <tbody>\n",
       "    <tr>\n",
       "      <th>count</th>\n",
       "      <td>53940.000000</td>\n",
       "      <td>53940.000000</td>\n",
       "      <td>53940.000000</td>\n",
       "      <td>53940.000000</td>\n",
       "      <td>53940.000000</td>\n",
       "      <td>53940.000000</td>\n",
       "      <td>53940.000000</td>\n",
       "    </tr>\n",
       "    <tr>\n",
       "      <th>mean</th>\n",
       "      <td>0.797940</td>\n",
       "      <td>61.749405</td>\n",
       "      <td>57.457184</td>\n",
       "      <td>3932.799722</td>\n",
       "      <td>5.731157</td>\n",
       "      <td>5.734526</td>\n",
       "      <td>3.538734</td>\n",
       "    </tr>\n",
       "    <tr>\n",
       "      <th>std</th>\n",
       "      <td>0.474011</td>\n",
       "      <td>1.432621</td>\n",
       "      <td>2.234491</td>\n",
       "      <td>3989.439738</td>\n",
       "      <td>1.121761</td>\n",
       "      <td>1.142135</td>\n",
       "      <td>0.705699</td>\n",
       "    </tr>\n",
       "    <tr>\n",
       "      <th>min</th>\n",
       "      <td>0.200000</td>\n",
       "      <td>43.000000</td>\n",
       "      <td>43.000000</td>\n",
       "      <td>326.000000</td>\n",
       "      <td>0.000000</td>\n",
       "      <td>0.000000</td>\n",
       "      <td>0.000000</td>\n",
       "    </tr>\n",
       "    <tr>\n",
       "      <th>25%</th>\n",
       "      <td>0.400000</td>\n",
       "      <td>61.000000</td>\n",
       "      <td>56.000000</td>\n",
       "      <td>950.000000</td>\n",
       "      <td>4.710000</td>\n",
       "      <td>4.720000</td>\n",
       "      <td>2.910000</td>\n",
       "    </tr>\n",
       "    <tr>\n",
       "      <th>50%</th>\n",
       "      <td>0.700000</td>\n",
       "      <td>61.800000</td>\n",
       "      <td>57.000000</td>\n",
       "      <td>2401.000000</td>\n",
       "      <td>5.700000</td>\n",
       "      <td>5.710000</td>\n",
       "      <td>3.530000</td>\n",
       "    </tr>\n",
       "    <tr>\n",
       "      <th>75%</th>\n",
       "      <td>1.040000</td>\n",
       "      <td>62.500000</td>\n",
       "      <td>59.000000</td>\n",
       "      <td>5324.250000</td>\n",
       "      <td>6.540000</td>\n",
       "      <td>6.540000</td>\n",
       "      <td>4.040000</td>\n",
       "    </tr>\n",
       "    <tr>\n",
       "      <th>max</th>\n",
       "      <td>5.010000</td>\n",
       "      <td>79.000000</td>\n",
       "      <td>95.000000</td>\n",
       "      <td>18823.000000</td>\n",
       "      <td>10.740000</td>\n",
       "      <td>58.900000</td>\n",
       "      <td>31.800000</td>\n",
       "    </tr>\n",
       "  </tbody>\n",
       "</table>\n",
       "</div>"
      ],
      "text/plain": [
       "              carat         depth         table         price             x  \\\n",
       "count  53940.000000  53940.000000  53940.000000  53940.000000  53940.000000   \n",
       "mean       0.797940     61.749405     57.457184   3932.799722      5.731157   \n",
       "std        0.474011      1.432621      2.234491   3989.439738      1.121761   \n",
       "min        0.200000     43.000000     43.000000    326.000000      0.000000   \n",
       "25%        0.400000     61.000000     56.000000    950.000000      4.710000   \n",
       "50%        0.700000     61.800000     57.000000   2401.000000      5.700000   \n",
       "75%        1.040000     62.500000     59.000000   5324.250000      6.540000   \n",
       "max        5.010000     79.000000     95.000000  18823.000000     10.740000   \n",
       "\n",
       "                  y             z  \n",
       "count  53940.000000  53940.000000  \n",
       "mean       5.734526      3.538734  \n",
       "std        1.142135      0.705699  \n",
       "min        0.000000      0.000000  \n",
       "25%        4.720000      2.910000  \n",
       "50%        5.710000      3.530000  \n",
       "75%        6.540000      4.040000  \n",
       "max       58.900000     31.800000  "
      ]
     },
     "execution_count": 3,
     "metadata": {},
     "output_type": "execute_result"
    }
   ],
   "source": [
    "df.describe()"
   ]
  },
  {
   "cell_type": "markdown",
   "metadata": {},
   "source": [
    "Si on commence par regarder ce que l'on veut prédire, on note que la colonne *price* a une grande amplitude : de 326$ à 18823$. Sa moyenne est de l'ordre de 4000$, donc un bon modèle sera d'un ordre de grandeur inférieur. On note aussi un grand écart de valeur entre le troisième quantile et le maximum : cela pourrait se traduire par une grande variance dans les performances du modèles en validation croisée. Si les valeurs extrêmes sont présentes dans un pli de test, on peut avoir des écarts de performances fort.\n",
    "\n",
    "Il est étonnant que le minimum pour les variables *x*, *y* et *z* soit 0 : d'après le descriptif, cela voudrait dire que nous avons des diamants en une à deux dimension au lieu de 3.\n",
    "\n",
    "**Consigne** : Visualiser les lignes concernées."
   ]
  },
  {
   "cell_type": "code",
   "execution_count": null,
   "metadata": {},
   "outputs": [],
   "source": []
  },
  {
   "cell_type": "markdown",
   "metadata": {},
   "source": [
    "**Consigne** : Ces données-là n'ayant pas de sens dans notre contexte, supprimer ces lignes et mesurer la taille du dataset avant et après la suppression."
   ]
  },
  {
   "cell_type": "code",
   "execution_count": null,
   "metadata": {},
   "outputs": [],
   "source": []
  },
  {
   "cell_type": "markdown",
   "metadata": {},
   "source": [
    "**Consigne** : Vérifier à nouveau les statistiques du dataset puis commenter."
   ]
  },
  {
   "cell_type": "code",
   "execution_count": null,
   "metadata": {},
   "outputs": [],
   "source": []
  },
  {
   "cell_type": "markdown",
   "metadata": {},
   "source": [
    "On souhaite visualiser le tableau précédent. Nous proposons de constuire une fonction qui va visualiser :\n",
    "1. La distribution d'une variable\n",
    "2. La distribution de la variable d'intérêt *price* par rapport à la variable que l'on étudie\n",
    "\n",
    "**Consigne** : Construire une fonction `explore_column` qui prend en paramètre :\n",
    "* *df* : le dataframe qui contient les colonnes que l'on souhaite visualiser\n",
    "* *column* : le nom de la colonne que l'on souhaite visualiser\n",
    "* *target_column* : le nom de la colonne cible (ici *price*)\n",
    "\n",
    "Cette fonction affichera côte à côte l'histogramme de la colonne ainsi que le scatter-plot entre cette colonne et la colonne cible."
   ]
  },
  {
   "cell_type": "code",
   "execution_count": 7,
   "metadata": {},
   "outputs": [],
   "source": []
  },
  {
   "cell_type": "markdown",
   "metadata": {},
   "source": [
    "Exploitons cette fonction pour la colonne *y* :"
   ]
  },
  {
   "cell_type": "code",
   "execution_count": 8,
   "metadata": {},
   "outputs": [
    {
     "data": {
      "image/png": "[encoded data removed]",
      "text/plain": [
       "<matplotlib.figure.Figure at 0x7fc2cbb34fd0>"
      ]
     },
     "metadata": {
      "needs_background": "light"
     },
     "output_type": "display_data"
    }
   ],
   "source": [
    "explore_column(df, \"y\", \"price\")"
   ]
  },
  {
   "cell_type": "markdown",
   "metadata": {},
   "source": [
    "On voit clairement que nous avons deux observations qui sont très éloignées du reste des observations. De plus, ces observations ne sont pas dans la *tendance* que l'on observe entre la variable *y* et la variable *price*. Nous devons donc supprimer ces deux observations car elles vont empêcher le modèle de bien apprendre.\n",
    "\n",
    "**Consigne** : Supprimer les deux observations et afficher la taille avant et après suppression du dataset."
   ]
  },
  {
   "cell_type": "code",
   "execution_count": null,
   "metadata": {},
   "outputs": [],
   "source": []
  },
  {
   "cell_type": "markdown",
   "metadata": {},
   "source": [
    "**Consigne** : Visualiser à nouveau la colonne *y* avec la fonction `explore_column` et commenter."
   ]
  },
  {
   "cell_type": "code",
   "execution_count": null,
   "metadata": {},
   "outputs": [],
   "source": []
  },
  {
   "cell_type": "markdown",
   "metadata": {},
   "source": [
    "**Consigne** : Reproduire l'étude sur le reste des colonnes numériques."
   ]
  },
  {
   "cell_type": "code",
   "execution_count": null,
   "metadata": {},
   "outputs": [],
   "source": []
  },
  {
   "cell_type": "markdown",
   "metadata": {},
   "source": [
    "### Données catégorielles\n",
    "\n",
    "Pour étudier la distributions des données catégorielles, on se propose de visualiser des *violin plot* :"
   ]
  },
  {
   "cell_type": "code",
   "execution_count": 12,
   "metadata": {},
   "outputs": [],
   "source": [
    "def make_violin_plot(column, figsize=(15, 8)):\n",
    "    plt.figure(figsize=figsize)\n",
    "    sns.violinplot(data=df, x=\"price\", y=column, inner=None)\n",
    "    plt.title(\"Distribution of price in function of %s\" % column.capitalize())\n",
    "    plt.show()"
   ]
  },
  {
   "cell_type": "markdown",
   "metadata": {},
   "source": [
    "Commençons avec la colonne *clarity* :"
   ]
  },
  {
   "cell_type": "code",
   "execution_count": 13,
   "metadata": {},
   "outputs": [
    {
     "data": {
      "image/png": "[encoded data removed]",
      "text/plain": [
       "<matplotlib.figure.Figure at 0x7fc2cbb00c50>"
      ]
     },
     "metadata": {
      "needs_background": "light"
     },
     "output_type": "display_data"
    }
   ],
   "source": [
    "make_violin_plot(\"clarity\")"
   ]
  },
  {
   "cell_type": "markdown",
   "metadata": {},
   "source": [
    "On note que la valeur *SI2* et *I1* on des formes bien différentes du reste qui sont plus concentrées. A nouveau, nous ne présentons pas l'ensemble des graphiques. Dans l'ensemble, il n'y a pas de grandes tendances qui se dessinent.\n",
    "Nous ne pouvons pas exploiter les données catégorielles directement : nous allons réaliser un *one hot encoding* pour pouvoir les utiliser dans notre régression linéaire.\n",
    "\n",
    "**Consigne** : À l'aide de la fonction [`pd.get_dummies`](https://pandas.pydata.org/pandas-docs/stable/reference/api/pandas.get_dummies.html), faire un *one hot encoding* des données."
   ]
  },
  {
   "cell_type": "code",
   "execution_count": null,
   "metadata": {},
   "outputs": [],
   "source": []
  },
  {
   "cell_type": "markdown",
   "metadata": {},
   "source": [
    "## Modélisation\n",
    "\n",
    "Nous avons maitenant un dataset nettoyé avec une première idées des éventuelles données qui seront utiles. Nous allons créer plusieurs modélisations et mesurer les performances. Pour se faciliter la tâche, nous allons construire une fonction pour le faire.\n",
    "\n",
    "Cette fonction va réaliser une validation croisé puis afficher les performances. Notre métrique sera la RMSE en priorité et nous exploiterons également le $R^2$ pour avoir un éclairage différent. \n",
    "Nous utiliserons la fonction [`cross_val_score`](https://scikit-learn.org/stable/modules/generated/sklearn.model_selection.cross_val_score.html) pour réaliser la validation croisé. Pour avoir les métriques que l'on souhaite, il faut que l'on utilise la fonction [`make_scorer`](https://scikit-learn.org/stable/modules/generated/sklearn.metrics.make_scorer.html) pour avoir le bon format d'appel dans la fonction [`cross_val_score`](https://scikit-learn.org/stable/modules/generated/sklearn.model_selection.cross_val_score.html)."
   ]
  },
  {
   "cell_type": "code",
   "execution_count": 15,
   "metadata": {},
   "outputs": [],
   "source": [
    "from sklearn.model_selection import cross_val_score\n",
    "from sklearn.metrics import make_scorer, mean_squared_error, r2_score\n",
    "from sklearn.linear_model import LinearRegression\n",
    "\n",
    "\n",
    "def train_predict(X, y, name, metric=mean_squared_error, cv=5):\n",
    "    model = LinearRegression()\n",
    "    scores = cross_val_score(model, X, y, scoring=make_scorer(metric), cv=cv)\n",
    "    mean_scores = np.mean(scores)\n",
    "    std_scores = np.std(scores)\n",
    "    print(\"%s : %0.4f (+/- %0.4f)\" % (name, mean_scores, std_scores))"
   ]
  },
  {
   "cell_type": "markdown",
   "metadata": {},
   "source": [
    "**Consigne** : Définir la fonction `RMSE`."
   ]
  },
  {
   "cell_type": "code",
   "execution_count": 1,
   "metadata": {},
   "outputs": [],
   "source": []
  },
  {
   "cell_type": "markdown",
   "metadata": {},
   "source": [
    "## Baseline\n",
    "\n",
    "Nous avons réaliser un travail de nettoyage, essayons de mesurer l'apport de chaque partie. Autrement dit, quelles performances atteint-on si :\n",
    "\n",
    "* On utilise la totalité du dataset initial (donc avec les valeurs extrêmes) mais uniquement les données numériques ?\n",
    "* On utilise la totalité du dataset initial (donc avec les valeurs extrêmes) et aussi les données numériques ?\n",
    "* On utilise le dataset sans les valeurs extrêmes mais uniquement les données numériques ?\n",
    "* On utilise le dataset sans les valeurs extrêmes et aussi les données numériques ?\n",
    "\n",
    "**Consigne** : Définir une fonction `preprocessing` qui prend en paramètre :\n",
    "* *remove_outliers*: booléen indiquant s'il faut supprimer les lignes identifiées comme outliers\n",
    "* *get_categorical*: booléen indiquant s'il faut utiliser ou non les données catégorielles\n",
    "Cette fonction renvoie la matrice d'information $X$ et le vecteur cible $y$. La fonction chargera à chaque appel le dataset initial."
   ]
  },
  {
   "cell_type": "code",
   "execution_count": null,
   "metadata": {},
   "outputs": [],
   "source": []
  },
  {
   "cell_type": "markdown",
   "metadata": {},
   "source": [
    "**Consigne** : À l'aide de la fonction `preprocessing` précédente, réaliser les quatres comparaisons souhaitées puis commenter."
   ]
  },
  {
   "cell_type": "code",
   "execution_count": null,
   "metadata": {},
   "outputs": [],
   "source": []
  },
  {
   "cell_type": "markdown",
   "metadata": {},
   "source": [
    "### Améliorations\n",
    "\n",
    "On souhaite réduire la variance. Une solution sera de régulariser le modèle en réalisant une régression Ridge ou Lasso par exemple. Avant de changer d'algorithme, on veut essayer de tirer profit des remarques que l'on a fait pendant la partie d'exploration des données.\n",
    "\n",
    "Nous avions noté que la variable $y$ était *lié* au prix avec une tendance de la forme $x\\mapsto x^2$. Essayons d'ajouter $y^2$ et mesurons la performance.\n",
    "\n",
    "**Consigne** : Ajouter la colonne $y^2$ au dataset issu de la fonction `preprocessing` avec l'ensemble des informations. Puis entraîner un modèle avec `train_predict` puis commenter."
   ]
  },
  {
   "cell_type": "code",
   "execution_count": null,
   "metadata": {},
   "outputs": [],
   "source": []
  },
  {
   "cell_type": "markdown",
   "metadata": {},
   "source": [
    "**Consigne** : Reproduire ce travail avec l'ensemble des remarques faites dans la partie exploration des données."
   ]
  },
  {
   "cell_type": "code",
   "execution_count": null,
   "metadata": {},
   "outputs": [],
   "source": []
  },
  {
   "cell_type": "markdown",
   "metadata": {},
   "source": [
    "### Régression Ridge\n",
    "\n",
    "Nous ne travaillerons qu'avec la régression Ridge car l'intérêt de sélection des variables de la méthode LASSO n'est pas primordiale ici : nous avons *peu* d'informations au regard du nombre d'observations. Cela reste tout de même un exercice que l'on peut réaliser pour s'en convaincre.\n",
    "\n",
    "Nous allons entraîner un ensemble de régression Ridge avec à chaque fois une valeur de pénalisation différente pour identifier la meilleure valeur de $\\lambda$."
   ]
  },
  {
   "cell_type": "code",
   "execution_count": 22,
   "metadata": {},
   "outputs": [
    {
     "data": {
      "image/png": "[encoded data removed]",
      "text/plain": [
       "<matplotlib.figure.Figure at 0x7fc2ccf1e278>"
      ]
     },
     "metadata": {
      "needs_background": "light"
     },
     "output_type": "display_data"
    }
   ],
   "source": [
    "from sklearn.linear_model import Ridge\n",
    "\n",
    "alpha_grid = np.linspace(0.001, 1, 40)\n",
    "score_result = []\n",
    "for alpha in alpha_grid:\n",
    "    model = Ridge(alpha=alpha)\n",
    "    scores = cross_val_score(model, X, y, scoring=make_scorer(RMSE), cv=10)\n",
    "    score_result.append(scores.mean())\n",
    "\n",
    "\n",
    "plt.figure(figsize=(15, 8))\n",
    "plt.plot(alpha_grid, score_result, 'o-')\n",
    "plt.axhline(y=1064, ls='--')\n",
    "plt.xlabel(r\"Pénalisation $\\lambda$ pour la régression Ridge\")\n",
    "plt.ylabel(\"Performance (RMSE)\")\n",
    "plt.title(r\"Performance de la régression Ridge en fonction de la pénalisation $L_2$\")\n",
    "plt.show()"
   ]
  },
  {
   "cell_type": "markdown",
   "metadata": {},
   "source": [
    "On a tracé en pointillé la valeur obtenue par la régression Ridge : on obtient pas une meilleure valeur en RMSE. Vérifions si on obtient une variance réduite pour le meilleure $\\lambda$ qui semble être 0.1\n",
    "\n",
    "**Consigne** : Entraîner une régression Ridge avec le $\\lambda$ adapté puis commenter."
   ]
  },
  {
   "cell_type": "code",
   "execution_count": null,
   "metadata": {},
   "outputs": [],
   "source": []
  },
  {
   "cell_type": "markdown",
   "metadata": {},
   "source": [
    "## Etude des résultats\n",
    "\n",
    "On souhaite avoir une meilleure *compréhension* de notre modèle. Le meilleur que nous ayons construit est entraîné à partir de données traités et augmenté. Entraînons-le sur un dataset de test et mesurons ses performances sur un jeu de test."
   ]
  },
  {
   "cell_type": "code",
   "execution_count": 24,
   "metadata": {},
   "outputs": [
    {
     "name": "stdout",
     "output_type": "stream",
     "text": [
      "RMSE : 1063.6756\n"
     ]
    }
   ],
   "source": [
    "from sklearn.model_selection import train_test_split\n",
    "\n",
    "X, y = preprocessing(remove_outliers=True, get_categorical=True)\n",
    "X[\"x^2\"] = X[\"x\"]**2\n",
    "X[\"y^2\"] = X[\"y\"]**2\n",
    "X = X.drop(columns=[\"depth\"], axis=1)\n",
    "\n",
    "X_train, X_test, y_train, y_test = train_test_split(X, y, test_size=0.25)\n",
    "model = LinearRegression().fit(X_train, y_train)\n",
    "y_pred = model.predict(X_test)\n",
    "print(\"RMSE : %0.4f\" % RMSE(y_test, y_pred))"
   ]
  },
  {
   "cell_type": "markdown",
   "metadata": {},
   "source": [
    "**Consigne** : Visualiser les distribution de *y_test* et *y_pred* à l'aide de la fonction [`plt.hist`](https://matplotlib.org/stable/api/_as_gen/matplotlib.pyplot.hist.html) puis commenter."
   ]
  },
  {
   "cell_type": "code",
   "execution_count": null,
   "metadata": {},
   "outputs": [],
   "source": []
  },
  {
   "cell_type": "markdown",
   "metadata": {},
   "source": [
    "**Consigne** : À partir d'une liste de 10 seuils pour la valeur à prédire (ici le *y_test*), mesurer la qualité de prédiction du modèle à l'aide de la fonction `RMSE` selon ces tranches."
   ]
  },
  {
   "cell_type": "code",
   "execution_count": null,
   "metadata": {},
   "outputs": [],
   "source": []
  },
  {
   "cell_type": "markdown",
   "metadata": {},
   "source": [
    "**Consigne** : À partir d'une liste de 10 seuils pour la valeur prédite (ici *y_pred*), mesurer la qualité de prédiction du modèle à l'aide de la fonction `RMSE` selon ces tranches. Commenter ce résultat et le précédent."
   ]
  },
  {
   "cell_type": "code",
   "execution_count": null,
   "metadata": {},
   "outputs": [],
   "source": []
  }
 ],
 "metadata": {
  "kernelspec": {
   "display_name": "Python 3",
   "language": "python",
   "name": "python3"
  },
  "language_info": {
   "codemirror_mode": {
    "name": "ipython",
    "version": 3
   },
   "file_extension": ".py",
   "mimetype": "text/x-python",
   "name": "python",
   "nbconvert_exporter": "python",
   "pygments_lexer": "ipython3",
   "version": "3.9.6"
  }
 },
 "nbformat": 4,
 "nbformat_minor": 2
}
